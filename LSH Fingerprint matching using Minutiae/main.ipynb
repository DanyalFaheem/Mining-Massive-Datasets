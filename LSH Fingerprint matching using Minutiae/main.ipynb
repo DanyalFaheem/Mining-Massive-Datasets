{
 "cells": [
  {
   "cell_type": "code",
   "execution_count": 1,
   "metadata": {},
   "outputs": [],
   "source": [
    "import numpy as np\n",
    "import glob\n",
    "import random\n",
    "import imageio\n",
    "import PIL, cv2\n",
    "import pandas as pd\n",
    "%matplotlib inline\n",
    "import matplotlib.pyplot as plt\n",
    "from skimage.morphology import convex_hull_image, erosion\n",
    "from skimage.morphology import square\n",
    "import matplotlib.image as mpimg\n",
    "import skimage\n",
    "import math\n",
    "from scipy.ndimage.filters import convolve\n",
    "from PIL import Image,ImageFilter\n",
    "from skimage.feature import hessian_matrix, hessian_matrix_eigvals"
   ]
  },
  {
   "cell_type": "markdown",
   "metadata": {},
   "source": [
    "Make sure path of DATA_DIR points to correct directory of dataset\n",
    "\n",
    "Using only 2000 size display list otherwise becomes too slow"
   ]
  },
  {
   "cell_type": "code",
   "execution_count": 2,
   "metadata": {},
   "outputs": [],
   "source": [
    "# KAGGLE FINGERPRINT DATA\n",
    "\n",
    "DATA_DIR = \"Real/\"\n",
    "list_dirs = list(glob.glob(DATA_DIR+\"*.BMP\"))\n",
    "num_images = len(list_dirs)\n",
    "\n",
    "random.seed(42)\n",
    "\n",
    "r = random.randint(0,num_images)\n",
    "display_list = list_dirs[:2000]\n",
    "# display_list[0]"
   ]
  },
  {
   "cell_type": "code",
   "execution_count": 3,
   "metadata": {},
   "outputs": [],
   "source": [
    "def getTerminationBifurcation(img, mask):\n",
    "    img = img == 255;\n",
    "    (rows, cols) = img.shape;\n",
    "    minutiaeTerm = np.zeros(img.shape);\n",
    "    minutiaeBif = np.zeros(img.shape);\n",
    "    \n",
    "    for i in range(1,rows-1):\n",
    "        for j in range(1,cols-1):\n",
    "            if(img[i][j] == 1):\n",
    "                block = img[i-1:i+2,j-1:j+2];\n",
    "                block_val = np.sum(block);\n",
    "                if(block_val == 2):\n",
    "                    minutiaeTerm[i,j] = 1;\n",
    "                elif(block_val == 4):\n",
    "                    minutiaeBif[i,j] = 1;\n",
    "    \n",
    "    mask = convex_hull_image(mask>0)\n",
    "    mask = erosion(mask, square(5))         \n",
    "    minutiaeTerm = np.uint8(mask)*minutiaeTerm\n",
    "    return(minutiaeTerm, minutiaeBif)"
   ]
  },
  {
   "cell_type": "code",
   "execution_count": 4,
   "metadata": {},
   "outputs": [],
   "source": [
    "class MinutiaeFeature(object):\n",
    "    def __init__(self, locX, locY, Orientation, Type):\n",
    "        self.locX = locX;\n",
    "        self.locY = locY;\n",
    "        self.Orientation = Orientation;\n",
    "        self.Type = Type;\n",
    "\n",
    "def computeAngle(block, minutiaeType):\n",
    "    angle = 0\n",
    "    (blkRows, blkCols) = np.shape(block);\n",
    "    CenterX, CenterY = (blkRows-1)/2, (blkCols-1)/2\n",
    "    if(minutiaeType.lower() == 'termination'):\n",
    "        sumVal = 0;\n",
    "        for i in range(blkRows):\n",
    "            for j in range(blkCols):\n",
    "                if((i == 0 or i == blkRows-1 or j == 0 or j == blkCols-1) and block[i][j] != 0):\n",
    "                    angle = -math.degrees(math.atan2(i-CenterY, j-CenterX))\n",
    "                    sumVal += 1\n",
    "                    if(sumVal > 1):\n",
    "                        angle = float('nan');\n",
    "        return(angle)\n",
    "    elif(minutiaeType.lower() == 'bifurcation'):\n",
    "        (blkRows, blkCols) = np.shape(block);\n",
    "        CenterX, CenterY = (blkRows - 1) / 2, (blkCols - 1) / 2\n",
    "        angle = []\n",
    "        sumVal = 0;\n",
    "        for i in range(blkRows):\n",
    "            for j in range(blkCols):\n",
    "                if ((i == 0 or i == blkRows - 1 or j == 0 or j == blkCols - 1) and block[i][j] != 0):\n",
    "                    angle.append(-math.degrees(math.atan2(i - CenterY, j - CenterX)))\n",
    "                    sumVal += 1\n",
    "        if(sumVal != 3):\n",
    "            angle = float('nan')\n",
    "        if type(angle) == list:\n",
    "            return(angle[0])\n",
    "        else:\n",
    "            return (angle)\n",
    "\n",
    "\n",
    "def extractMinutiaeFeatures(skel, minutiaeTerm, minutiaeBif):\n",
    "    FeaturesTerm = []\n",
    "\n",
    "    minutiaeTerm = skimage.measure.label(minutiaeTerm, connectivity=2);\n",
    "    RP = skimage.measure.regionprops(minutiaeTerm)\n",
    "    \n",
    "    WindowSize = 2          \n",
    "    FeaturesTerm = []\n",
    "    for i in RP:\n",
    "        (row, col) = np.int16(np.round(i['Centroid']))\n",
    "        block = skel[row-WindowSize:row+WindowSize+1, col-WindowSize:col+WindowSize+1]\n",
    "        angle = computeAngle(block, 'Termination')\n",
    "        FeaturesTerm.append(MinutiaeFeature(row, col, angle, 'Termination'))\n",
    "\n",
    "    FeaturesBif = []\n",
    "    minutiaeBif = skimage.measure.label(minutiaeBif, connectivity=2);\n",
    "    RP = skimage.measure.regionprops(minutiaeBif)\n",
    "    WindowSize = 1 \n",
    "    for i in RP:\n",
    "        (row, col) = np.int16(np.round(i['Centroid']))\n",
    "        block = skel[row-WindowSize:row+WindowSize+1, col-WindowSize:col+WindowSize+1]\n",
    "        angle = computeAngle(block, 'Bifurcation')\n",
    "        FeaturesBif.append(MinutiaeFeature(row, col, angle, 'Bifurcation'))\n",
    "    return(FeaturesTerm, FeaturesBif)\n",
    "\n",
    "def ShowResults(skel, TermLabel, BifLabel):\n",
    "    minutiaeBif = TermLabel * 0;\n",
    "    minutiaeTerm = BifLabel * 0;\n",
    "\n",
    "    (rows, cols) = skel.shape\n",
    "    DispImg = np.zeros((rows, cols, 3), np.uint8)\n",
    "    DispImg[:, :, 0] = skel;\n",
    "    DispImg[:, :, 1] = skel;\n",
    "    DispImg[:, :, 2] = skel;\n",
    "\n",
    "    RP = skimage.measure.regionprops(BifLabel)\n",
    "    for idx, i in enumerate(RP):\n",
    "        (row, col) = np.int16(np.round(i['Centroid']))\n",
    "        minutiaeBif[row, col] = 1;\n",
    "        (rr, cc) = skimage.draw.circle_perimeter(row, col, 1);\n",
    "        skimage.draw.set_color(DispImg, (rr, cc), (255, 0, 0));\n",
    "\n",
    "    RP = skimage.measure.regionprops(TermLabel)\n",
    "    for idx, i in enumerate(RP):\n",
    "        (row, col) = np.int16(np.round(i['Centroid']))\n",
    "        minutiaeTerm[row, col] = 1;\n",
    "        (rr, cc) = skimage.draw.circle_perimeter(row, col, 1);\n",
    "        skimage.draw.set_color(DispImg, (rr, cc), (0, 0, 255));\n",
    "        \n",
    "    plt.figure(figsize=(6,6))\n",
    "    plt.title(\"Minutiae extraction results\")\n",
    "    plt.imshow(DispImg)"
   ]
  },
  {
   "cell_type": "markdown",
   "metadata": {},
   "source": [
    "Actual Code for LSH starts here"
   ]
  },
  {
   "cell_type": "markdown",
   "metadata": {},
   "source": [
    "Using pyLSHash library for this purpose, can be found at the URL: https://github.com/guofei9987/pyLSHash\n",
    "\n",
    "The hash functions we are using for this are randomized and we can save them as well if we find to be good\n",
    "\n",
    "There are 128 hash functions that I am using for this program, number can be tweaked as per use case\n",
    "\n",
    "I have made some changes to the above minutiae extraction code such that I am only using 1 angle instead of 3 angles from the bifurcation angles"
   ]
  },
  {
   "cell_type": "code",
   "execution_count": 5,
   "metadata": {},
   "outputs": [
    {
     "ename": "KeyboardInterrupt",
     "evalue": "",
     "output_type": "error",
     "traceback": [
      "\u001b[1;31m---------------------------------------------------------------------------\u001b[0m",
      "\u001b[1;31mKeyboardInterrupt\u001b[0m                         Traceback (most recent call last)",
      "\u001b[1;32m<ipython-input-5-d212264f297c>\u001b[0m in \u001b[0;36m<module>\u001b[1;34m\u001b[0m\n\u001b[0;32m     44\u001b[0m         \u001b[0mfile\u001b[0m\u001b[1;33m.\u001b[0m\u001b[0mclose\u001b[0m\u001b[1;33m(\u001b[0m\u001b[1;33m)\u001b[0m\u001b[1;33m\u001b[0m\u001b[1;33m\u001b[0m\u001b[0m\n\u001b[0;32m     45\u001b[0m     \u001b[1;32mreturn\u001b[0m \u001b[0mlsh\u001b[0m\u001b[1;33m\u001b[0m\u001b[1;33m\u001b[0m\u001b[0m\n\u001b[1;32m---> 46\u001b[1;33m \u001b[0mlsh\u001b[0m \u001b[1;33m=\u001b[0m \u001b[0mcreateHashTable\u001b[0m\u001b[1;33m(\u001b[0m\u001b[0mstore\u001b[0m\u001b[1;33m=\u001b[0m\u001b[1;32mTrue\u001b[0m\u001b[1;33m)\u001b[0m\u001b[1;33m\u001b[0m\u001b[1;33m\u001b[0m\u001b[0m\n\u001b[0m",
      "\u001b[1;32m<ipython-input-5-d212264f297c>\u001b[0m in \u001b[0;36mcreateHashTable\u001b[1;34m(store)\u001b[0m\n\u001b[0;32m     34\u001b[0m     \u001b[1;32mfor\u001b[0m \u001b[0mimg_name\u001b[0m \u001b[1;32min\u001b[0m \u001b[0mdisplay_list\u001b[0m\u001b[1;33m:\u001b[0m\u001b[1;33m\u001b[0m\u001b[1;33m\u001b[0m\u001b[0m\n\u001b[0;32m     35\u001b[0m         \u001b[1;31m# Extract minutiae of image\u001b[0m\u001b[1;33m\u001b[0m\u001b[1;33m\u001b[0m\u001b[1;33m\u001b[0m\u001b[0m\n\u001b[1;32m---> 36\u001b[1;33m         \u001b[0mdf\u001b[0m \u001b[1;33m=\u001b[0m \u001b[0mcreateSet\u001b[0m\u001b[1;33m(\u001b[0m\u001b[0mimg_name\u001b[0m\u001b[1;33m)\u001b[0m\u001b[1;33m\u001b[0m\u001b[1;33m\u001b[0m\u001b[0m\n\u001b[0m\u001b[0;32m     37\u001b[0m         \u001b[1;31m# For each minutiae add it to the hashtable with the corresponding filename\u001b[0m\u001b[1;33m\u001b[0m\u001b[1;33m\u001b[0m\u001b[1;33m\u001b[0m\u001b[0m\n\u001b[0;32m     38\u001b[0m         \u001b[1;32mfor\u001b[0m \u001b[0melement\u001b[0m \u001b[1;32min\u001b[0m \u001b[0mdf\u001b[0m\u001b[1;33m.\u001b[0m\u001b[0mitertuples\u001b[0m\u001b[1;33m(\u001b[0m\u001b[1;33m)\u001b[0m\u001b[1;33m:\u001b[0m\u001b[1;33m\u001b[0m\u001b[1;33m\u001b[0m\u001b[0m\n",
      "\u001b[1;32m<ipython-input-5-d212264f297c>\u001b[0m in \u001b[0;36mcreateSet\u001b[1;34m(img_name)\u001b[0m\n\u001b[0;32m      9\u001b[0m     \u001b[0mmask\u001b[0m \u001b[1;33m=\u001b[0m \u001b[0mimg\u001b[0m\u001b[1;33m*\u001b[0m\u001b[1;36m255\u001b[0m\u001b[1;33m;\u001b[0m\u001b[1;33m\u001b[0m\u001b[1;33m\u001b[0m\u001b[0m\n\u001b[0;32m     10\u001b[0m     \u001b[1;31m# Extract Minutiae\u001b[0m\u001b[1;33m\u001b[0m\u001b[1;33m\u001b[0m\u001b[1;33m\u001b[0m\u001b[0m\n\u001b[1;32m---> 11\u001b[1;33m     \u001b[1;33m(\u001b[0m\u001b[0mminutiaeTerm\u001b[0m\u001b[1;33m,\u001b[0m \u001b[0mminutiaeBif\u001b[0m\u001b[1;33m)\u001b[0m \u001b[1;33m=\u001b[0m \u001b[0mgetTerminationBifurcation\u001b[0m\u001b[1;33m(\u001b[0m\u001b[0mskel\u001b[0m\u001b[1;33m,\u001b[0m \u001b[0mmask\u001b[0m\u001b[1;33m)\u001b[0m\u001b[1;33m;\u001b[0m\u001b[1;33m\u001b[0m\u001b[1;33m\u001b[0m\u001b[0m\n\u001b[0m\u001b[0;32m     12\u001b[0m     \u001b[0mFeaturesTerm\u001b[0m\u001b[1;33m,\u001b[0m \u001b[0mFeaturesBif\u001b[0m \u001b[1;33m=\u001b[0m \u001b[0mextractMinutiaeFeatures\u001b[0m\u001b[1;33m(\u001b[0m\u001b[0mskel\u001b[0m\u001b[1;33m,\u001b[0m \u001b[0mminutiaeTerm\u001b[0m\u001b[1;33m,\u001b[0m \u001b[0mminutiaeBif\u001b[0m\u001b[1;33m)\u001b[0m\u001b[1;33m\u001b[0m\u001b[1;33m\u001b[0m\u001b[0m\n\u001b[0;32m     13\u001b[0m \u001b[1;33m\u001b[0m\u001b[0m\n",
      "\u001b[1;32m<ipython-input-3-c1529a5cb8ef>\u001b[0m in \u001b[0;36mgetTerminationBifurcation\u001b[1;34m(img, mask)\u001b[0m\n\u001b[0;32m      7\u001b[0m     \u001b[1;32mfor\u001b[0m \u001b[0mi\u001b[0m \u001b[1;32min\u001b[0m \u001b[0mrange\u001b[0m\u001b[1;33m(\u001b[0m\u001b[1;36m1\u001b[0m\u001b[1;33m,\u001b[0m\u001b[0mrows\u001b[0m\u001b[1;33m-\u001b[0m\u001b[1;36m1\u001b[0m\u001b[1;33m)\u001b[0m\u001b[1;33m:\u001b[0m\u001b[1;33m\u001b[0m\u001b[1;33m\u001b[0m\u001b[0m\n\u001b[0;32m      8\u001b[0m         \u001b[1;32mfor\u001b[0m \u001b[0mj\u001b[0m \u001b[1;32min\u001b[0m \u001b[0mrange\u001b[0m\u001b[1;33m(\u001b[0m\u001b[1;36m1\u001b[0m\u001b[1;33m,\u001b[0m\u001b[0mcols\u001b[0m\u001b[1;33m-\u001b[0m\u001b[1;36m1\u001b[0m\u001b[1;33m)\u001b[0m\u001b[1;33m:\u001b[0m\u001b[1;33m\u001b[0m\u001b[1;33m\u001b[0m\u001b[0m\n\u001b[1;32m----> 9\u001b[1;33m             \u001b[1;32mif\u001b[0m\u001b[1;33m(\u001b[0m\u001b[0mimg\u001b[0m\u001b[1;33m[\u001b[0m\u001b[0mi\u001b[0m\u001b[1;33m]\u001b[0m\u001b[1;33m[\u001b[0m\u001b[0mj\u001b[0m\u001b[1;33m]\u001b[0m \u001b[1;33m==\u001b[0m \u001b[1;36m1\u001b[0m\u001b[1;33m)\u001b[0m\u001b[1;33m:\u001b[0m\u001b[1;33m\u001b[0m\u001b[1;33m\u001b[0m\u001b[0m\n\u001b[0m\u001b[0;32m     10\u001b[0m                 \u001b[0mblock\u001b[0m \u001b[1;33m=\u001b[0m \u001b[0mimg\u001b[0m\u001b[1;33m[\u001b[0m\u001b[0mi\u001b[0m\u001b[1;33m-\u001b[0m\u001b[1;36m1\u001b[0m\u001b[1;33m:\u001b[0m\u001b[0mi\u001b[0m\u001b[1;33m+\u001b[0m\u001b[1;36m2\u001b[0m\u001b[1;33m,\u001b[0m\u001b[0mj\u001b[0m\u001b[1;33m-\u001b[0m\u001b[1;36m1\u001b[0m\u001b[1;33m:\u001b[0m\u001b[0mj\u001b[0m\u001b[1;33m+\u001b[0m\u001b[1;36m2\u001b[0m\u001b[1;33m]\u001b[0m\u001b[1;33m;\u001b[0m\u001b[1;33m\u001b[0m\u001b[1;33m\u001b[0m\u001b[0m\n\u001b[0;32m     11\u001b[0m                 \u001b[0mblock_val\u001b[0m \u001b[1;33m=\u001b[0m \u001b[0mnp\u001b[0m\u001b[1;33m.\u001b[0m\u001b[0msum\u001b[0m\u001b[1;33m(\u001b[0m\u001b[0mblock\u001b[0m\u001b[1;33m)\u001b[0m\u001b[1;33m;\u001b[0m\u001b[1;33m\u001b[0m\u001b[1;33m\u001b[0m\u001b[0m\n",
      "\u001b[1;31mKeyboardInterrupt\u001b[0m: "
     ]
    }
   ],
   "source": [
    "from pickle import dump, load\n",
    "from pyLSHash import LSHash\n",
    "\n",
    "def createSet(img_name):\n",
    "    img = cv2.imread(img_name,0);\n",
    "    img = np.array(img > img.mean()).astype(int)\n",
    "    skel = skimage.morphology.skeletonize(img)\n",
    "    skel = np.uint8(skel)*255;\n",
    "    mask = img*255;\n",
    "    # Extract Minutiae\n",
    "    (minutiaeTerm, minutiaeBif) = getTerminationBifurcation(skel, mask);\n",
    "    FeaturesTerm, FeaturesBif = extractMinutiaeFeatures(skel, minutiaeTerm, minutiaeBif)\n",
    "\n",
    "    # Convert minutiae to a dataframe for easy processsing\n",
    "    df = pd.DataFrame([vars(f) for f in FeaturesTerm], dtype='int')\n",
    "    df1 = pd.DataFrame([vars(f) for f in FeaturesBif], dtype='int')\n",
    "    df = df.append(df1)\n",
    "    # Drop\n",
    "    df = df.dropna()\n",
    "    # Represent strings with binary encoding\n",
    "    df.loc[df.Type == 'Termination', 'Type'] = 0\n",
    "    df.loc[df.Type == 'Bifurcation', 'Type'] = 1\n",
    "    # Change data types to integer\n",
    "    df['Type'] = df['Type'].astype(int)\n",
    "    # Add path of image to recoginze later on\n",
    "    df['Image_Name'] = img_name\n",
    "    return df\n",
    "\n",
    "def createHashTable(store=False):\n",
    "    # Initialize our hash table\n",
    "    lsh = LSHash(hash_size=128, input_dim=4)\n",
    "    # lsh.load_uniform_planes('uniform_planes.pkl')\n",
    "    # Loop over each image in dataset\n",
    "    for img_name in display_list:\n",
    "        # Extract minutiae of image\n",
    "        df = createSet(img_name)\n",
    "        # For each minutiae add it to the hashtable with the corresponding filename\n",
    "        for element in df.itertuples():\n",
    "            lsh.index(list(element)[1:-1], extra_data=list(element)[-1])\n",
    "    if store:\n",
    "        # Write hashtable to file for later use\n",
    "        file = open('LSH.pkl', 'wb')\n",
    "        dump(lsh, file)\n",
    "        file.close()\n",
    "    return lsh\n",
    "lsh = createHashTable(store=True)\n"
   ]
  },
  {
   "cell_type": "markdown",
   "metadata": {},
   "source": [
    "To test against random 50 images"
   ]
  },
  {
   "cell_type": "code",
   "execution_count": null,
   "metadata": {},
   "outputs": [
    {
     "name": "stdout",
     "output_type": "stream",
     "text": [
      "Expected Result\t\t\t\t\t Actual Result\n",
      "139.BMP Real\\139__M_Right_thumb_finger.BMP\n",
      "Incorrect Results:  1\n"
     ]
    }
   ],
   "source": [
    "# Read LSH object from file\n",
    "file = open('LSH.pkl', 'rb')\n",
    "lsh = load(file)\n",
    "file.close()\n",
    "count = 0\n",
    "print(\"Expected Result\\t\\t\\t\\t\\t Actual Result\")\n",
    "for i in range(1):\n",
    "    # Get random image to test\n",
    "    test = display_list[random.randint(0, len(display_list) - 1)]\n",
    "    # Extract minutiae of image\n",
    "    df = createSet(test)\n",
    "    results = []\n",
    "    try:\n",
    "        # Extract 50 random minutiae to query against\n",
    "        df = df.sample(50)\n",
    "        # Query against each minutiae and keep only top 40 results\n",
    "        for element in df.itertuples():\n",
    "            result = lsh.query(list(element)[1:-1])[:40]\n",
    "            results.extend(result)\n",
    "    except:\n",
    "        print(\"Image has too few minutae for comparison, please choose another image!\")\n",
    "    from statistics import mode\n",
    "    # Extract the most frequent filename in the matched query results\n",
    "    match = mode([result[0][1] for result in results])\n",
    "    unique, counts = np.unique([result[0][1] for result in results], return_counts=True)\n",
    "    # Check if true to actual result or not\n",
    "    test = test.rsplit('_', 1)[0]\n",
    "    match = match.rsplit('_', 1)[0]\n",
    "    print(test, match)\n",
    "    count += test != match\n",
    "print(\"Incorrect Results: \", count)"
   ]
  },
  {
   "cell_type": "markdown",
   "metadata": {},
   "source": [
    "To Query against single image"
   ]
  },
  {
   "cell_type": "code",
   "execution_count": null,
   "metadata": {},
   "outputs": [],
   "source": [
    "# Function to find similar fingerprint given image of fingerprint\n",
    "# LSHObject is the lsh hashtable of previous data, image is the image to match against\n",
    "def query(lSHObject, image):\n",
    "    df = createSet(image)\n",
    "    results = []\n",
    "    try:\n",
    "        df = df.sample(50)\n",
    "        for element in df.itertuples():\n",
    "            result = lsh.query(list(element)[1:-1])[:40]\n",
    "            results.extend(result)\n",
    "    except:\n",
    "        print(\"Image has too few minutae for comparison, please choose another image!\")\n",
    "    from statistics import mode\n",
    "    match = mode([result[0][1] for result in results])\n",
    "    return match"
   ]
  },
  {
   "cell_type": "code",
   "execution_count": 11,
   "metadata": {},
   "outputs": [
    {
     "name": "stdout",
     "output_type": "stream",
     "text": [
      "139.BMP\n",
      "139.BMP\n"
     ]
    }
   ],
   "source": [
    "DATA_DIR = \"Altered-Easy/\"\n",
    "list_dirs = list(glob.glob(DATA_DIR+\"*.BMP\"))\n",
    "display_list = list_dirs[:2000]\n",
    "print(display_list[0])\n",
    "print(display_list[0].rsplit('_', 1)[0])"
   ]
  },
  {
   "cell_type": "code",
   "execution_count": null,
   "metadata": {},
   "outputs": [],
   "source": []
  }
 ],
 "metadata": {
  "kernelspec": {
   "display_name": "Python 3.8.8 ('DIP')",
   "language": "python",
   "name": "python3"
  },
  "language_info": {
   "codemirror_mode": {
    "name": "ipython",
    "version": 3
   },
   "file_extension": ".py",
   "mimetype": "text/x-python",
   "name": "python",
   "nbconvert_exporter": "python",
   "pygments_lexer": "ipython3",
   "version": "3.8.8"
  },
  "orig_nbformat": 4,
  "vscode": {
   "interpreter": {
    "hash": "7fee64b6d10f71b2ad32d2aedca1959ec8ccaf90c3c6db5aa37e1a96c8621a02"
   }
  }
 },
 "nbformat": 4,
 "nbformat_minor": 2
}
